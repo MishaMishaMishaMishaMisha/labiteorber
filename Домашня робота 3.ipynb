{
 "cells": [
  {
   "cell_type": "markdown",
   "metadata": {},
   "source": [
    "# Домашня робота №3\n",
    "Будемо використовувати *Збірник задач з теорії ймовірностей та математичної статистики: навч. посібник / В.В. Голомозий, М.В. Карташов, К.В. Ральченко. – К.: Видавничо-поліграфічний центр «Київський університет», 2015. – 366 с.*\n",
    "Електронну версію збірника можна знайти [тут](http://probability.univ.kiev.ua/userfiles/kmv/gkr-problems.pdf)."
   ]
  },
  {
   "cell_type": "markdown",
   "metadata": {},
   "source": [
    "## 1 Задача 1.3.12\n",
    "Знайти ймовiрнiсть того, що серед трьох цифр, кожна з яких вибрана навмання, буде лише 1, 2, 3 рiзних.\n",
    "\n",
    "Обчисліть теоретичну (повним перебором) та еміричну (симулюванням $100000$ експериментів) імовірності."
   ]
  },
  {
   "cell_type": "code",
   "execution_count": 6,
   "metadata": {},
   "outputs": [
    {
     "name": "stdout",
     "output_type": "stream",
     "text": [
      "Теоретична ймовірність\n",
      " одна різна цифра: 0.01\n",
      " дві різні цифри: 0.27\n",
      " три різні цифри: 0.72\n",
      "\n",
      "Емпірична ймовірність\n",
      " одна різна цифра: 0.0118\n",
      " дві різні цифри: 0.273\n",
      " три різні цифри: 0.7152\n",
      "\n",
      "\n"
     ]
    }
   ],
   "source": [
    "# Місце для Вашого коду\n",
    "\n",
    "import itertools\n",
    "import numpy as np\n",
    "\n",
    "def func(arr):\n",
    "    l1, l2, l3 = 0, 0, 0\n",
    "    length = len(arr)\n",
    "    for x in arr:\n",
    "        l = len(set(x))\n",
    "        if l == 1:\n",
    "             l1 += 1\n",
    "        elif l == 2:\n",
    "             l2 += 1\n",
    "        else:\n",
    "              l3 += 1\n",
    "    return l1 / length, l2 / length, l3 / length\n",
    "\n",
    "digits = [0,1,2,3,4,5,6,7,8,9]\n",
    "\n",
    "varss = list(itertools.product(digits, repeat=3))\n",
    "print('Теоретична ймовірність\\n'\n",
    "          ' одна різна цифра: {}\\n'\n",
    "          ' дві різні цифри: {}\\n'\n",
    "          ' три різні цифри: {}\\n'.format(*func(varss)))\n",
    "\n",
    "    \n",
    "varss = [np.random.choice(digits, size=3) for i in range(10000)]\n",
    "print('Емпірична ймовірність\\n'\n",
    "          ' одна різна цифра: {}\\n'\n",
    "          ' дві різні цифри: {}\\n'\n",
    "          ' три різні цифри: {}\\n\\n'.format(*func(varss)))"
   ]
  },
  {
   "cell_type": "markdown",
   "metadata": {},
   "source": [
    "# 2 Задача 1.3.14\n",
    "З послiдовностi чисел $1, 2, . . . , n$ вибирають навмання $k$ рiзних чисел.\n",
    "Яка ймовiрнiсть того, що:\n",
    "1. кожне з вибраних чисел кратне даному числу $p$;\n",
    "2. кожне з вибраних чисел кратне хоча б одному з двох взаємно простих чисел $p$ i $q$;\n",
    "3. серед вибраних чисел є хоча б одне кратне $p$?\n",
    "\n",
    "Напишіть  відповідні функції для обрахунку теоретичної (повним перебором) та еміричної (симулюванням $100000$ експериментів) імовірностей в залежності від параметрів $n, k, p, q$.\n",
    "Виведіть результат для\n",
    "- $n = 25, k = 5, p = 3, q = 4$;\n",
    "- $n = 25, k = 10, p = 3, q = 4$."
   ]
  },
  {
   "cell_type": "code",
   "execution_count": 3,
   "metadata": {},
   "outputs": [
    {
     "name": "stdout",
     "output_type": "stream",
     "text": [
      "n = 25, k = 5, p = 3, q = 4\n",
      "Теоретична й  імпірична ймовірність того, що:\n",
      " - кожне з вибраних чисел кратне даному числу  р: 0.0033554432;  0.00327\n",
      " - кожне з вибраних чисел кратне хоча б одному з двох взаємно простих чисел  p  i  q : 0.0253755392;  0.02461\n",
      " - серед вибраних чисел є хоча б одне кратне  p: 0.8546066432;  0.85217\n",
      "\n",
      "n = 15, k = 6, p = 2, q = 5\n",
      "Теоретична й  імпірична ймовірність того, що:\n",
      " - кожне з вибраних чисел кратне даному числу  р: 0.010328581618655693;  0.01007\n",
      " - кожне з вибраних чисел кратне хоча б одному з двох взаємно простих чисел  p  i  q : 0.04665038134430727;  0.04572\n",
      " - серед вибраних чисел є хоча б одне кратне  p: 0.9769859862825788;  0.97715\n",
      "\n"
     ]
    }
   ],
   "source": [
    "# Місце для Вашого коду\n",
    "\n",
    "import itertools\n",
    "import numpy as np\n",
    "\n",
    "def func(n, k, p, q):\n",
    "    def check(lst, state='t'):\n",
    "        def theor(arr):\n",
    "            return len(set(itertools.permutations(arr)))\n",
    "        def emp(arr):\n",
    "            return 1\n",
    "\n",
    "        a, b, c = 0, 0, 0\n",
    "        L = 0\n",
    "\n",
    "        func = None\n",
    "        if state == 't':\n",
    "            func = theor\n",
    "        elif state == 'e':\n",
    "            func = emp\n",
    "\n",
    "        for el in lst:\n",
    "            el1 = [x % p == 0 for x in el]\n",
    "            l = func(el)\n",
    "            L += l\n",
    "            if all(el1):\n",
    "                a += l\n",
    "                b += l\n",
    "                c += l\n",
    "            elif any(el1):\n",
    "                c += l\n",
    "                el2 = [x % p == 0 or x % q == 0 for x in el]\n",
    "                if all(el2):\n",
    "                    b += l\n",
    "        return a / L, b / L, c / L\n",
    "\n",
    "    \n",
    "    comb = list(itertools.combinations_with_replacement(list(range(1, n + 1)), r=k))\n",
    "    ev1, ev2, ev3 = check(comb)\n",
    "\n",
    "\n",
    "\n",
    "    rand = [np.random.choice(list(range(1, n + 1)), size=k, replace=True) for _ in range(100000)]\n",
    "    ev4, ev5, ev6 = check(rand, state='e')\n",
    "\n",
    "    print('n = {}, k = {}, p = {}, q = {}'.format(n, k, p, q))\n",
    "    print('Теоретична й  імпірична ймовірність того, що:\\n'\n",
    "          ' - кожне з вибраних чисел кратне даному числу  р: {};  {}\\n'\n",
    "          ' - кожне з вибраних чисел кратне хоча б одному з двох взаємно простих чисел  p  i  q : {};  {}\\n'\n",
    "          ' - серед вибраних чисел є хоча б одне кратне  p: {};  {}\\n'.format(ev1, ev4, ev2, ev5, ev3, ev6))\n",
    "\n",
    "func(25, 5, 3, 4)\n",
    "func(15, 6, 2, 5)"
   ]
  },
  {
   "cell_type": "markdown",
   "metadata": {},
   "source": [
    "# 3 Задача 1.4.6\n",
    "В коморi знаходяться $n$ пар черевикiв.\n",
    "З них випадковим чином вибираються $2k$ черевикiв.\n",
    "Яка ймовiрнiсть того, що серед вибраних черевикiв:\n",
    "1. вiдсутнi парнi;\n",
    "2. є рiвно одна комплектна пара;\n",
    "3. є двi комплектнi пари?\n",
    "\n",
    "Напишіть  відповідні функції для обрахунку теоретичної (повним перебором) та еміричної (симулюванням $100000$ експериментів) імовірностей в залежності від параметрів $n, k$.\n",
    "Виведіть результат для\n",
    "- $n = 8, k = 4$;\n",
    "- $n = 13, k = 5$."
   ]
  },
  {
   "cell_type": "code",
   "execution_count": 4,
   "metadata": {},
   "outputs": [
    {
     "name": "stdout",
     "output_type": "stream",
     "text": [
      "n = 8, k = 4\n",
      "Теоретична й  імпірична ймовірність того, що:\n",
      " - вiдсутнi парнi черевики: 0.01989121989121989;  0.02003\n",
      " - є рiвно одна комплектна пара: 0.2784770784770785;  0.27498\n",
      " - є двi комплектнi пари: 0.5221445221445221;  0.52467\n",
      "\n",
      "n = 13, k = 5\n",
      "Теоретична й  імпірична ймовірність того, що:\n",
      " - вiдсутнi парнi черевики: 0.05513528065688518;  0.05419\n",
      " - є рiвно одна комплектна пара: 0.31013595369497915;  0.31259\n",
      " - є двi комплектнi пари: 0.4341903351729708;  0.4334\n",
      "\n"
     ]
    }
   ],
   "source": [
    "# Місце для Вашого коду\n",
    "\n",
    "import itertools\n",
    "import numpy as np\n",
    "\n",
    "def func2(n, k):\n",
    "    def check(lst):\n",
    "        a, b, c = 0, 0, 0\n",
    "        L = len(lst)\n",
    "        for el in lst:\n",
    "            l = len(el)\n",
    "            l1 = len(set(el))\n",
    "            if l == l1:\n",
    "                a += 1\n",
    "            elif l - l1 == 1:\n",
    "                b += 1\n",
    "            elif l - l1 == 2:\n",
    "                c += 1\n",
    "        return a / L, b / L, c / L\n",
    "    \n",
    "    boots = [x for x in range(1, n+1)] * 2\n",
    "\n",
    "    comb = list(itertools.combinations(boots, r=2*k))\n",
    "    ev1, ev2, ev3 = check(comb)\n",
    "\n",
    "    \n",
    "\n",
    "    rand = [np.random.choice(boots, size=2*k, replace=False) for _ in range(100000)]\n",
    "    ev4, ev5, ev6 = check(rand)\n",
    "\n",
    "    print('n = {}, k = {}'.format(n, k))\n",
    "    print('Теоретична й  імпірична ймовірність того, що:\\n'\n",
    "          ' - вiдсутнi парнi черевики: {};  {}\\n'\n",
    "          ' - є рiвно одна комплектна пара: {};  {}\\n'\n",
    "          ' - є двi комплектнi пари: {};  {}\\n'.format(ev1, ev4, ev2, ev5, ev3, ev6))\n",
    "\n",
    "func2(8, 4)\n",
    "func2(13, 5)"
   ]
  },
  {
   "cell_type": "markdown",
   "metadata": {},
   "source": [
    "# 4 Задача 1.2.15\n",
    "Нехай $\\Omega = {1, 2, \\ldots, 2n}$.\n",
    "Всiм числам приписанi ймовiрностi, пропорцiйнi логарифмам цих чисел.\n",
    "Знайти цi ймовiрностi.\n",
    "Знайти ймовiрнiсть того, що в результатi експерименту з’явиться:\n",
    "1. парне число;\n",
    "2. непарне число.\n",
    "\n",
    "Напишіть функцію для обрахунку еміричної (симулюванням $100000$ експериментів) імовірності в залежності від параметра $n$.\n",
    "Виведіть результат для\n",
    "- $n = 10$;\n",
    "- $n = 25$."
   ]
  },
  {
   "cell_type": "code",
   "execution_count": 5,
   "metadata": {},
   "outputs": [
    {
     "name": "stdout",
     "output_type": "stream",
     "text": [
      "n = 10\n",
      "Теоретична ймовірність\n",
      " - парне число: 0.5205046299279228\n",
      " - непарне число: 0.47949537007207726\n",
      "Імпірична ймовірність\n",
      " - парне число: 0.5205046299279228\n",
      " - непарне число: 0.4794953700720772\n"
     ]
    }
   ],
   "source": [
    "# Місце для Вашого коду\n",
    "\n",
    "from math import factorial\n",
    "import numpy as np\n",
    "\n",
    "def func3(lst):\n",
    "    s1, s2 = 0, 0\n",
    "    for i in range(0, len(lst), 2):\n",
    "            s2 += lst[i]\n",
    "            s1 += lst[i+1]\n",
    "    return s1, s2\n",
    "\n",
    "\n",
    "f = factorial(20)\n",
    "k = np.log(f)\n",
    "prob = [np.log(x) / k for x in range(1,21)]\n",
    "\n",
    "s1, s2 = func3(prob)\n",
    "print('n =', 10)\n",
    "print('Теоретична ймовірність\\n - парне число: {}\\n - непарне число: {}'.format(s1, s2))\n",
    "\n",
    "\n",
    "numbers = np.random.choice(list(range(1, 21)), size=100000, replace=True, p=prob)\n",
    "event1 = len(list(filter(lambda x: x % 2 == 0, numbers))) / 100000\n",
    "print('Імпірична ймовірність\\n - парне число: {}\\n - непарне число: {}'.format(s1, 1 - s1))"
   ]
  },
  {
   "cell_type": "code",
   "execution_count": null,
   "metadata": {},
   "outputs": [],
   "source": []
  }
 ],
 "metadata": {
  "kernelspec": {
   "display_name": "Python 3",
   "language": "python",
   "name": "python3"
  },
  "language_info": {
   "codemirror_mode": {
    "name": "ipython",
    "version": 3
   },
   "file_extension": ".py",
   "mimetype": "text/x-python",
   "name": "python",
   "nbconvert_exporter": "python",
   "pygments_lexer": "ipython3",
   "version": "3.7.4"
  }
 },
 "nbformat": 4,
 "nbformat_minor": 1
}
